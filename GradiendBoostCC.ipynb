{
  "nbformat": 4,
  "nbformat_minor": 0,
  "metadata": {
    "colab": {
      "name": "GradiendBoostCC.ipynb",
      "provenance": [],
      "collapsed_sections": []
    },
    "kernelspec": {
      "name": "python3",
      "display_name": "Python 3"
    },
    "language_info": {
      "name": "python"
    },
    "accelerator": "GPU"
  },
  "cells": [
    {
      "cell_type": "code",
      "metadata": {
        "id": "vpxif9mB3vbc"
      },
      "source": [
        "import xgboost as xgb\n",
        "import numpy as np \n",
        "import pandas as pd\n",
        "import matplotlib.pyplot as plt\n",
        "import lightgbm as lgb\n",
        "import xgboost as xgb\n",
        "import seaborn as sns \n",
        "color = sns.color_palette()\n",
        "from sklearn.model_selection import train_test_split\n",
        "from sklearn.model_selection import StratifiedKFold\n",
        "from sklearn.linear_model import LogisticRegression\n",
        "from sklearn.metrics import log_loss\n",
        "from sklearn.metrics import precision_recall_curve, average_precision_score\n",
        "from sklearn.metrics import roc_curve, auc, roc_auc_score\n",
        "from sklearn.metrics import confusion_matrix, classification_report"
      ],
      "execution_count": null,
      "outputs": []
    },
    {
      "cell_type": "code",
      "metadata": {
        "colab": {
          "base_uri": "https://localhost:8080/"
        },
        "id": "5qPP9ZX14ITq",
        "outputId": "3b4d4b05-6d53-4a3b-c1b9-e49750a0d879"
      },
      "source": [
        "from google.colab import drive \n",
        "drive.mount(\"/content/gdrive\",force_remount=True)\n"
      ],
      "execution_count": null,
      "outputs": [
        {
          "output_type": "stream",
          "name": "stdout",
          "text": [
            "Mounted at /content/gdrive\n"
          ]
        }
      ]
    },
    {
      "cell_type": "code",
      "metadata": {
        "colab": {
          "base_uri": "https://localhost:8080/",
          "height": 226
        },
        "id": "2RSgW_sn4gBh",
        "outputId": "1d408ab6-0141-43af-d124-45a1a16fc97b"
      },
      "source": [
        "data = pd.read_csv(\"/content/gdrive/MyDrive/Colab Notebooks/Colab_data/creditcard.csv\",)\n",
        "data.head()"
      ],
      "execution_count": null,
      "outputs": [
        {
          "output_type": "execute_result",
          "data": {
            "text/html": [
              "<div>\n",
              "<style scoped>\n",
              "    .dataframe tbody tr th:only-of-type {\n",
              "        vertical-align: middle;\n",
              "    }\n",
              "\n",
              "    .dataframe tbody tr th {\n",
              "        vertical-align: top;\n",
              "    }\n",
              "\n",
              "    .dataframe thead th {\n",
              "        text-align: right;\n",
              "    }\n",
              "</style>\n",
              "<table border=\"1\" class=\"dataframe\">\n",
              "  <thead>\n",
              "    <tr style=\"text-align: right;\">\n",
              "      <th></th>\n",
              "      <th>Time</th>\n",
              "      <th>V1</th>\n",
              "      <th>V2</th>\n",
              "      <th>V3</th>\n",
              "      <th>V4</th>\n",
              "      <th>V5</th>\n",
              "      <th>V6</th>\n",
              "      <th>V7</th>\n",
              "      <th>V8</th>\n",
              "      <th>V9</th>\n",
              "      <th>V10</th>\n",
              "      <th>V11</th>\n",
              "      <th>V12</th>\n",
              "      <th>V13</th>\n",
              "      <th>V14</th>\n",
              "      <th>V15</th>\n",
              "      <th>V16</th>\n",
              "      <th>V17</th>\n",
              "      <th>V18</th>\n",
              "      <th>V19</th>\n",
              "      <th>V20</th>\n",
              "      <th>V21</th>\n",
              "      <th>V22</th>\n",
              "      <th>V23</th>\n",
              "      <th>V24</th>\n",
              "      <th>V25</th>\n",
              "      <th>V26</th>\n",
              "      <th>V27</th>\n",
              "      <th>V28</th>\n",
              "      <th>Amount</th>\n",
              "      <th>Class</th>\n",
              "    </tr>\n",
              "  </thead>\n",
              "  <tbody>\n",
              "    <tr>\n",
              "      <th>0</th>\n",
              "      <td>0.0</td>\n",
              "      <td>-1.359807</td>\n",
              "      <td>-0.072781</td>\n",
              "      <td>2.536347</td>\n",
              "      <td>1.378155</td>\n",
              "      <td>-0.338321</td>\n",
              "      <td>0.462388</td>\n",
              "      <td>0.239599</td>\n",
              "      <td>0.098698</td>\n",
              "      <td>0.363787</td>\n",
              "      <td>0.090794</td>\n",
              "      <td>-0.551600</td>\n",
              "      <td>-0.617801</td>\n",
              "      <td>-0.991390</td>\n",
              "      <td>-0.311169</td>\n",
              "      <td>1.468177</td>\n",
              "      <td>-0.470401</td>\n",
              "      <td>0.207971</td>\n",
              "      <td>0.025791</td>\n",
              "      <td>0.403993</td>\n",
              "      <td>0.251412</td>\n",
              "      <td>-0.018307</td>\n",
              "      <td>0.277838</td>\n",
              "      <td>-0.110474</td>\n",
              "      <td>0.066928</td>\n",
              "      <td>0.128539</td>\n",
              "      <td>-0.189115</td>\n",
              "      <td>0.133558</td>\n",
              "      <td>-0.021053</td>\n",
              "      <td>149.62</td>\n",
              "      <td>0</td>\n",
              "    </tr>\n",
              "    <tr>\n",
              "      <th>1</th>\n",
              "      <td>0.0</td>\n",
              "      <td>1.191857</td>\n",
              "      <td>0.266151</td>\n",
              "      <td>0.166480</td>\n",
              "      <td>0.448154</td>\n",
              "      <td>0.060018</td>\n",
              "      <td>-0.082361</td>\n",
              "      <td>-0.078803</td>\n",
              "      <td>0.085102</td>\n",
              "      <td>-0.255425</td>\n",
              "      <td>-0.166974</td>\n",
              "      <td>1.612727</td>\n",
              "      <td>1.065235</td>\n",
              "      <td>0.489095</td>\n",
              "      <td>-0.143772</td>\n",
              "      <td>0.635558</td>\n",
              "      <td>0.463917</td>\n",
              "      <td>-0.114805</td>\n",
              "      <td>-0.183361</td>\n",
              "      <td>-0.145783</td>\n",
              "      <td>-0.069083</td>\n",
              "      <td>-0.225775</td>\n",
              "      <td>-0.638672</td>\n",
              "      <td>0.101288</td>\n",
              "      <td>-0.339846</td>\n",
              "      <td>0.167170</td>\n",
              "      <td>0.125895</td>\n",
              "      <td>-0.008983</td>\n",
              "      <td>0.014724</td>\n",
              "      <td>2.69</td>\n",
              "      <td>0</td>\n",
              "    </tr>\n",
              "    <tr>\n",
              "      <th>2</th>\n",
              "      <td>1.0</td>\n",
              "      <td>-1.358354</td>\n",
              "      <td>-1.340163</td>\n",
              "      <td>1.773209</td>\n",
              "      <td>0.379780</td>\n",
              "      <td>-0.503198</td>\n",
              "      <td>1.800499</td>\n",
              "      <td>0.791461</td>\n",
              "      <td>0.247676</td>\n",
              "      <td>-1.514654</td>\n",
              "      <td>0.207643</td>\n",
              "      <td>0.624501</td>\n",
              "      <td>0.066084</td>\n",
              "      <td>0.717293</td>\n",
              "      <td>-0.165946</td>\n",
              "      <td>2.345865</td>\n",
              "      <td>-2.890083</td>\n",
              "      <td>1.109969</td>\n",
              "      <td>-0.121359</td>\n",
              "      <td>-2.261857</td>\n",
              "      <td>0.524980</td>\n",
              "      <td>0.247998</td>\n",
              "      <td>0.771679</td>\n",
              "      <td>0.909412</td>\n",
              "      <td>-0.689281</td>\n",
              "      <td>-0.327642</td>\n",
              "      <td>-0.139097</td>\n",
              "      <td>-0.055353</td>\n",
              "      <td>-0.059752</td>\n",
              "      <td>378.66</td>\n",
              "      <td>0</td>\n",
              "    </tr>\n",
              "    <tr>\n",
              "      <th>3</th>\n",
              "      <td>1.0</td>\n",
              "      <td>-0.966272</td>\n",
              "      <td>-0.185226</td>\n",
              "      <td>1.792993</td>\n",
              "      <td>-0.863291</td>\n",
              "      <td>-0.010309</td>\n",
              "      <td>1.247203</td>\n",
              "      <td>0.237609</td>\n",
              "      <td>0.377436</td>\n",
              "      <td>-1.387024</td>\n",
              "      <td>-0.054952</td>\n",
              "      <td>-0.226487</td>\n",
              "      <td>0.178228</td>\n",
              "      <td>0.507757</td>\n",
              "      <td>-0.287924</td>\n",
              "      <td>-0.631418</td>\n",
              "      <td>-1.059647</td>\n",
              "      <td>-0.684093</td>\n",
              "      <td>1.965775</td>\n",
              "      <td>-1.232622</td>\n",
              "      <td>-0.208038</td>\n",
              "      <td>-0.108300</td>\n",
              "      <td>0.005274</td>\n",
              "      <td>-0.190321</td>\n",
              "      <td>-1.175575</td>\n",
              "      <td>0.647376</td>\n",
              "      <td>-0.221929</td>\n",
              "      <td>0.062723</td>\n",
              "      <td>0.061458</td>\n",
              "      <td>123.50</td>\n",
              "      <td>0</td>\n",
              "    </tr>\n",
              "    <tr>\n",
              "      <th>4</th>\n",
              "      <td>2.0</td>\n",
              "      <td>-1.158233</td>\n",
              "      <td>0.877737</td>\n",
              "      <td>1.548718</td>\n",
              "      <td>0.403034</td>\n",
              "      <td>-0.407193</td>\n",
              "      <td>0.095921</td>\n",
              "      <td>0.592941</td>\n",
              "      <td>-0.270533</td>\n",
              "      <td>0.817739</td>\n",
              "      <td>0.753074</td>\n",
              "      <td>-0.822843</td>\n",
              "      <td>0.538196</td>\n",
              "      <td>1.345852</td>\n",
              "      <td>-1.119670</td>\n",
              "      <td>0.175121</td>\n",
              "      <td>-0.451449</td>\n",
              "      <td>-0.237033</td>\n",
              "      <td>-0.038195</td>\n",
              "      <td>0.803487</td>\n",
              "      <td>0.408542</td>\n",
              "      <td>-0.009431</td>\n",
              "      <td>0.798278</td>\n",
              "      <td>-0.137458</td>\n",
              "      <td>0.141267</td>\n",
              "      <td>-0.206010</td>\n",
              "      <td>0.502292</td>\n",
              "      <td>0.219422</td>\n",
              "      <td>0.215153</td>\n",
              "      <td>69.99</td>\n",
              "      <td>0</td>\n",
              "    </tr>\n",
              "  </tbody>\n",
              "</table>\n",
              "</div>"
            ],
            "text/plain": [
              "   Time        V1        V2        V3  ...       V27       V28  Amount  Class\n",
              "0   0.0 -1.359807 -0.072781  2.536347  ...  0.133558 -0.021053  149.62      0\n",
              "1   0.0  1.191857  0.266151  0.166480  ... -0.008983  0.014724    2.69      0\n",
              "2   1.0 -1.358354 -1.340163  1.773209  ... -0.055353 -0.059752  378.66      0\n",
              "3   1.0 -0.966272 -0.185226  1.792993  ...  0.062723  0.061458  123.50      0\n",
              "4   2.0 -1.158233  0.877737  1.548718  ...  0.219422  0.215153   69.99      0\n",
              "\n",
              "[5 rows x 31 columns]"
            ]
          },
          "metadata": {},
          "execution_count": 27
        }
      ]
    },
    {
      "cell_type": "code",
      "metadata": {
        "colab": {
          "base_uri": "https://localhost:8080/",
          "height": 279
        },
        "id": "bTVcs7fa7_vo",
        "outputId": "928382da-5a50-4681-8e01-7e0a61b001d1"
      },
      "source": [
        "suspicious_count = len(data[data['Class'] == 1])\n",
        "non_suspicious_count = len(data[data['Class'] == 0])\n",
        "\n",
        "sampled_non_suspicious = data[data['Class'] == 0].sample(n=suspicious_count)\n",
        "suspicious = data[data['Class'] == 1]\n",
        "\n",
        "sampled_non_suspicious.reset_index(drop=True, inplace=True)\n",
        "suspicious.reset_index(drop=True, inplace=True)\n",
        "\n",
        "balanced_data = pd.concat([sampled_non_suspicious, suspicious]).reset_index(drop=True);\n",
        "\n",
        "balanced_data['Class'].value_counts().plot(kind='bar')"
      ],
      "execution_count": null,
      "outputs": [
        {
          "output_type": "execute_result",
          "data": {
            "text/plain": [
              "<matplotlib.axes._subplots.AxesSubplot at 0x7f3b2e2f5c50>"
            ]
          },
          "metadata": {},
          "execution_count": 28
        },
        {
          "output_type": "display_data",
          "data": {
            "image/png": "[encoded data removed]",
            "text/plain": [
              "<Figure size 432x288 with 1 Axes>"
            ]
          },
          "metadata": {
            "needs_background": "light"
          }
        }
      ]
    },
    {
      "cell_type": "code",
      "metadata": {
        "id": "VmJdMkLm4rSP"
      },
      "source": [
        "y=balanced_data[\"Class\"]\n",
        "X=balanced_data.drop(columns=[\"Class\"])\n"
      ],
      "execution_count": null,
      "outputs": []
    },
    {
      "cell_type": "code",
      "metadata": {
        "colab": {
          "base_uri": "https://localhost:8080/"
        },
        "id": "h1n9_YH151wD",
        "outputId": "a991da94-ed81-4369-97c3-419bf1c63a07"
      },
      "source": [
        "X_train, X_test, y_train, y_test = train_test_split(X, y, test_size=0.2, stratify=y, random_state=42)\n",
        "print(X_train.shape)\n",
        "print(X_test.shape)\n",
        "print(y_train.shape)\n",
        "print(X_test.shape)\n",
        "k_fold = StratifiedKFold(n_splits=5, shuffle=True, random_state=2018)\n",
        "\n"
      ],
      "execution_count": null,
      "outputs": [
        {
          "output_type": "stream",
          "name": "stdout",
          "text": [
            "(787, 30)\n",
            "(197, 30)\n",
            "(787,)\n",
            "(197, 30)\n"
          ]
        }
      ]
    },
    {
      "cell_type": "code",
      "metadata": {
        "colab": {
          "base_uri": "https://localhost:8080/"
        },
        "id": "41ACsQeYP_E9",
        "outputId": "dc45dcf0-4932-4df8-8c82-2b4881903e21"
      },
      "source": [
        "penalty = 'l2'   #Compared to L1, L2 is less sensitive to outliers\n",
        "C = 1.0  ## regularization helps address overfitting by penalizing complexity.\n",
        "class_weight = 'balanced'\n",
        "random_state = 2018\n",
        "solver = 'liblinear'\n",
        "logReg = LogisticRegression(penalty=penalty, C=C, class_weight=class_weight, \n",
        "                            random_state=random_state, \n",
        "                            solver=solver, n_jobs=10)\n",
        "\n",
        "trainingScores = []\n",
        "cvScores = []\n",
        "predictionsBasedOnKFolds = pd.DataFrame(data=[],\n",
        "                                        index=y_train.index,\n",
        "                                        columns=[0,1])\n",
        "\n",
        "model = logReg\n",
        "for train_index, cv_index in k_fold.split(np.zeros(len(X_train)) ,y_train.ravel()):\n",
        "    X_train_fold, X_cv_fold = X_train.iloc[train_index,:], \\\n",
        "    X_train.iloc[cv_index,:]\n",
        "    y_train_fold, y_cv_fold = y_train.iloc[train_index], \\\n",
        "    y_train.iloc[cv_index]\n",
        "    model.fit(X_train_fold, y_train_fold)\n",
        "    loglossTraining = log_loss(y_train_fold,\n",
        "    model.predict_proba(X_train_fold)[:,1])\n",
        "    trainingScores.append(loglossTraining)\n",
        "    predictionsBasedOnKFolds.loc[X_cv_fold.index,:] = \\\n",
        "    model.predict_proba(X_cv_fold)\n",
        "    loglossCV = log_loss(y_cv_fold,\n",
        "    predictionsBasedOnKFolds.loc[X_cv_fold.index,1])\n",
        "    cvScores.append(loglossCV)\n",
        "    print('Training Log Loss: ', loglossTraining)\n",
        "    print('CV Log Loss: ', loglossCV)\n",
        "\n",
        "loglossLogisticRegression = log_loss(y_train,\n",
        "                                     predictionsBasedOnKFolds.loc[:,1])\n",
        "print('Logistic Regression Log Loss: ', loglossLogisticRegression)"
      ],
      "execution_count": null,
      "outputs": [
        {
          "output_type": "stream",
          "name": "stdout",
          "text": [
            "Training Log Loss:  0.20618105226988778\n",
            "CV Log Loss:  0.15419089803614155\n",
            "Training Log Loss:  0.19783115984762345\n",
            "CV Log Loss:  0.24435425706222702\n",
            "Training Log Loss:  0.19404251916528523\n",
            "CV Log Loss:  0.25285449124095455\n",
            "Training Log Loss:  0.20454406500974706\n",
            "CV Log Loss:  0.11576058081326407\n",
            "Training Log Loss:  0.1943603566290039\n",
            "CV Log Loss:  0.2671838137448698\n",
            "Logistic Regression Log Loss:  0.2068495039085122\n"
          ]
        },
        {
          "output_type": "stream",
          "name": "stderr",
          "text": [
            "/usr/local/lib/python3.7/dist-packages/sklearn/linear_model/_logistic.py:1526: UserWarning: 'n_jobs' > 1 does not have any effect when 'solver' is set to 'liblinear'. Got 'n_jobs' = 10.\n",
            "  \" = {}.\".format(effective_n_jobs(self.n_jobs))\n",
            "/usr/local/lib/python3.7/dist-packages/sklearn/linear_model/_logistic.py:1526: UserWarning: 'n_jobs' > 1 does not have any effect when 'solver' is set to 'liblinear'. Got 'n_jobs' = 10.\n",
            "  \" = {}.\".format(effective_n_jobs(self.n_jobs))\n",
            "/usr/local/lib/python3.7/dist-packages/sklearn/linear_model/_logistic.py:1526: UserWarning: 'n_jobs' > 1 does not have any effect when 'solver' is set to 'liblinear'. Got 'n_jobs' = 10.\n",
            "  \" = {}.\".format(effective_n_jobs(self.n_jobs))\n",
            "/usr/local/lib/python3.7/dist-packages/sklearn/linear_model/_logistic.py:1526: UserWarning: 'n_jobs' > 1 does not have any effect when 'solver' is set to 'liblinear'. Got 'n_jobs' = 10.\n",
            "  \" = {}.\".format(effective_n_jobs(self.n_jobs))\n",
            "/usr/local/lib/python3.7/dist-packages/sklearn/linear_model/_logistic.py:1526: UserWarning: 'n_jobs' > 1 does not have any effect when 'solver' is set to 'liblinear'. Got 'n_jobs' = 10.\n",
            "  \" = {}.\".format(effective_n_jobs(self.n_jobs))\n"
          ]
        }
      ]
    },
    {
      "cell_type": "code",
      "metadata": {
        "id": "wePe4az99ApO"
      },
      "source": [
        "params_xGB = {\n",
        "    \"nthread\":16,\n",
        "    \"learning rate\":0.3,\n",
        "    \"gamma\":0,\n",
        "    \"max_depth\":6,\n",
        "    \"min_child_weight\":1,\n",
        "    \"max_delta_step\":0,\n",
        "    \"subsample\":1.0,\n",
        "    \"colsample_bytree\":1.0,\n",
        "    \"objective\":\"binary:logistic\",\n",
        "    \"num_classes\":1,\n",
        "    \"eval_metric\":\"logloss\",\n",
        "    \"seed\":2021,\n",
        "    \"silent\":1,\n",
        "  }\n",
        "  \n"
      ],
      "execution_count": null,
      "outputs": []
    },
    {
      "cell_type": "code",
      "metadata": {
        "colab": {
          "base_uri": "https://localhost:8080/"
        },
        "id": "XXARNoKF6eaA",
        "outputId": "a227b4d1-0f7c-45a4-e29b-b0423c3ecc99"
      },
      "source": [
        "trainingScores = []\n",
        "cvScores = []\n",
        "predictionsBasedOnKFold = pd.DataFrame(data=[],\n",
        "                                       index=y_train.index,columns=[\"prediction\"]\n",
        "                                       )\n",
        "for train_index,cv_index in k_fold.split(np.zeros(len(X_train)), y_train.ravel()):\n",
        "  X_train_fold, X_cv_fold = X_train.iloc[train_index,:], X_train.iloc[cv_index,:]\n",
        "  y_train_fold, y_cv_fold = y_train.iloc[train_index], y_train.iloc[cv_index]\n",
        "  dtrain = xgb.DMatrix(data=X_train_fold, label=y_train_fold)\n",
        "  dCV = xgb.DMatrix(data=X_cv_fold)\n",
        "  bst = xgb.cv(params_xGB, dtrain, num_boost_round=2000,\n",
        "               nfold=5, early_stopping_rounds=200,verbose_eval=50)\n",
        "  best_rounds = np.argmin(bst[\"test-logloss-mean\"])\n",
        "  bst = xgb.train(params_xGB,dtrain,best_rounds)\n",
        "  loglossTraining = log_loss(y_train_fold, bst.predict(dtrain))\n",
        "  trainingScores.append(loglossTraining)\n",
        "  predictionsBasedOnKFold.loc[X_cv_fold.index,\"prediction\"] = bst.predict(dCV)\n",
        "  loglossCV = log_loss(y_cv_fold,predictionsBasedOnKFold.loc[X_cv_fold.index,\"prediction\"])\n",
        "  cvScores.append(loglossCV)\n",
        "  print(\"log loss: \", loglossTraining)\n",
        "  print(\"CV log loss: \",loglossCV)\n",
        "\n",
        "loglossXGBoostGradientBoosting = log_loss(y_train, predictionsBasedOnKFold.loc[:,\"prediction\"])\n",
        "print(\"xgboost gradient boosting log loss: \", loglossXGBoostGradientBoosting)\n"
      ],
      "execution_count": null,
      "outputs": [
        {
          "output_type": "stream",
          "name": "stdout",
          "text": [
            "[0]\ttrain-logloss:0.474894+0.00249981\ttest-logloss:0.508447+0.00519025\n",
            "[50]\ttrain-logloss:0.0096778+0.000422383\ttest-logloss:0.223967+0.0873903\n",
            "[100]\ttrain-logloss:0.0065204+0.000174605\ttest-logloss:0.234444+0.0962513\n",
            "[150]\ttrain-logloss:0.0057922+0.000164865\ttest-logloss:0.240282+0.0999968\n",
            "[200]\ttrain-logloss:0.0053408+0.000177254\ttest-logloss:0.242143+0.101985\n",
            "log loss:  0.03970688865305367\n",
            "CV log loss:  0.15249893183344698\n",
            "[0]\ttrain-logloss:0.471797+0.00218601\ttest-logloss:0.508156+0.0064359\n",
            "[50]\ttrain-logloss:0.00892+0.000375454\ttest-logloss:0.202618+0.0609768\n",
            "[100]\ttrain-logloss:0.0062028+0.000133974\ttest-logloss:0.213297+0.0657216\n",
            "[150]\ttrain-logloss:0.0054954+0.000132177\ttest-logloss:0.217237+0.0685424\n",
            "[200]\ttrain-logloss:0.0050672+0.000122102\ttest-logloss:0.221028+0.0688151\n",
            "log loss:  0.029230921681739377\n",
            "CV log loss:  0.3075977394511679\n",
            "[0]\ttrain-logloss:0.477733+0.00424025\ttest-logloss:0.495859+0.010888\n",
            "[50]\ttrain-logloss:0.009264+0.000354856\ttest-logloss:0.218253+0.0705007\n",
            "[100]\ttrain-logloss:0.0063576+0.000137525\ttest-logloss:0.228397+0.0706394\n",
            "[150]\ttrain-logloss:0.0056668+0.000134856\ttest-logloss:0.232152+0.0722103\n",
            "[200]\ttrain-logloss:0.0052068+0.000133948\ttest-logloss:0.236297+0.0741479\n",
            "log loss:  0.057792379426222944\n",
            "CV log loss:  0.25993508273917315\n",
            "[0]\ttrain-logloss:0.477034+0.00552459\ttest-logloss:0.510253+0.0185199\n",
            "[50]\ttrain-logloss:0.0096132+0.000506274\ttest-logloss:0.268796+0.111188\n",
            "[100]\ttrain-logloss:0.0065078+0.000277449\ttest-logloss:0.284312+0.122033\n",
            "[150]\ttrain-logloss:0.0057614+0.000283285\ttest-logloss:0.291529+0.129602\n",
            "[200]\ttrain-logloss:0.0053272+0.000289742\ttest-logloss:0.297157+0.135018\n",
            "log loss:  0.06573096637924512\n",
            "CV log loss:  0.15715196918011265\n",
            "[0]\ttrain-logloss:0.476417+0.00307716\ttest-logloss:0.503249+0.0078549\n",
            "[50]\ttrain-logloss:0.0093604+9.656e-05\ttest-logloss:0.214918+0.0228663\n",
            "[100]\ttrain-logloss:0.0064354+3.63461e-05\ttest-logloss:0.224384+0.0250933\n",
            "[150]\ttrain-logloss:0.0057882+3.32289e-05\ttest-logloss:0.228687+0.0270114\n",
            "[200]\ttrain-logloss:0.005358+3.02523e-05\ttest-logloss:0.232139+0.0281113\n",
            "log loss:  0.041499608168230645\n",
            "CV log loss:  0.2362961718142414\n",
            "xgboost gradient boosting log loss:  0.22271466351859326\n"
          ]
        }
      ]
    },
    {
      "cell_type": "code",
      "metadata": {
        "colab": {
          "base_uri": "https://localhost:8080/",
          "height": 235
        },
        "id": "-AOrY4dTNnH8",
        "outputId": "c2db3659-82bc-4a83-fcda-d3ab74a07f61"
      },
      "source": [
        "trainingScores = []\n",
        "cvScores = []\n",
        "predictionsBasedOnKFolds = pd.DataFrame(data=[],\n",
        "                                        index=y_train.index,columns=['prediction'])\n",
        "\n",
        "for train_index, cv_index in k_fold.split(np.zeros(len(X_train)), y_train.ravel()):\n",
        "    X_train_fold, X_cv_fold = X_train.iloc[train_index,:], \\\n",
        "    X_train.iloc[cv_index,:]\n",
        "    y_train_fold, y_cv_fold = y_train.iloc[train_index], \\\n",
        "    y_train.iloc[cv_index]\n",
        "    dtrain = xgb.DMatrix(data=X_train_fold, label=y_train_fold)\n",
        "    dCV = xgb.DMatrix(data=X_cv_fold)\n",
        "    bst = xgb.cv(params_xGB, dtrain, num_boost_round=2000,\n",
        "                 nfold=5, early_stopping_rounds=200, verbose_eval=50)\n",
        "    best_rounds = np.argmin(bst['test-logloss-mean'])\n",
        "    bst = xgb.train(params_xGB, dtrain, best_rounds)\n",
        "    loglossTraining = log_loss(y_train_fold, bst.predict(dtrain))\n",
        "    trainingScores.append(loglossTraining)\n",
        "    predictionsBasedOnKFolds.loc[X_cv_fold.index,'prediction'] = \\\n",
        "    bst.predict(dCV)\n",
        "    loglossCV = log_loss(y_cv_fold, \\\n",
        "                         predictionsBasedOnKFolds.loc[X_cv_fold.index,'prediction'])\n",
        "    cvScores.append(loglossCV)\n",
        "    print('Training Log Loss: ', loglossTraining)\n",
        "    print('CV Log Loss: ', loglossCV)\n",
        "\n",
        "loglossXGBoostGradientBoosting = \\\n",
        "log_loss(y_train, predictionsBasedOnKFolds.loc[:,'prediction'])\n",
        "print('XGBoost Gradient Boosting Log Loss: ', loglossXGBoostGradientBoosting)"
      ],
      "execution_count": null,
      "outputs": [
        {
          "output_type": "error",
          "ename": "NameError",
          "evalue": "ignored",
          "traceback": [
            "\u001b[0;31m---------------------------------------------------------------------------\u001b[0m",
            "\u001b[0;31mNameError\u001b[0m                                 Traceback (most recent call last)",
            "\u001b[0;32m<ipython-input-9-760c7d1c5707>\u001b[0m in \u001b[0;36m<module>\u001b[0;34m()\u001b[0m\n\u001b[1;32m      4\u001b[0m                                         index=y_train.index,columns=['prediction'])\n\u001b[1;32m      5\u001b[0m \u001b[0;34m\u001b[0m\u001b[0m\n\u001b[0;32m----> 6\u001b[0;31m \u001b[0;32mfor\u001b[0m \u001b[0mtrain_index\u001b[0m\u001b[0;34m,\u001b[0m \u001b[0mcv_index\u001b[0m \u001b[0;32min\u001b[0m \u001b[0mk_fold\u001b[0m\u001b[0;34m.\u001b[0m\u001b[0msplit\u001b[0m\u001b[0;34m(\u001b[0m\u001b[0mnp\u001b[0m\u001b[0;34m.\u001b[0m\u001b[0mzeros\u001b[0m\u001b[0;34m(\u001b[0m\u001b[0mlen\u001b[0m\u001b[0;34m(\u001b[0m\u001b[0mX_train\u001b[0m\u001b[0;34m)\u001b[0m\u001b[0;34m)\u001b[0m\u001b[0;34m,\u001b[0m \u001b[0my_train\u001b[0m\u001b[0;34m.\u001b[0m\u001b[0mravel\u001b[0m\u001b[0;34m(\u001b[0m\u001b[0;34m)\u001b[0m\u001b[0;34m)\u001b[0m\u001b[0;34m:\u001b[0m\u001b[0;34m\u001b[0m\u001b[0;34m\u001b[0m\u001b[0m\n\u001b[0m\u001b[1;32m      7\u001b[0m     \u001b[0mX_train_fold\u001b[0m\u001b[0;34m,\u001b[0m \u001b[0mX_cv_fold\u001b[0m \u001b[0;34m=\u001b[0m \u001b[0mX_train\u001b[0m\u001b[0;34m.\u001b[0m\u001b[0miloc\u001b[0m\u001b[0;34m[\u001b[0m\u001b[0mtrain_index\u001b[0m\u001b[0;34m,\u001b[0m\u001b[0;34m:\u001b[0m\u001b[0;34m]\u001b[0m\u001b[0;34m,\u001b[0m     \u001b[0mX_train\u001b[0m\u001b[0;34m.\u001b[0m\u001b[0miloc\u001b[0m\u001b[0;34m[\u001b[0m\u001b[0mcv_index\u001b[0m\u001b[0;34m,\u001b[0m\u001b[0;34m:\u001b[0m\u001b[0;34m]\u001b[0m\u001b[0;34m\u001b[0m\u001b[0;34m\u001b[0m\u001b[0m\n\u001b[1;32m      8\u001b[0m     \u001b[0my_train_fold\u001b[0m\u001b[0;34m,\u001b[0m \u001b[0my_cv_fold\u001b[0m \u001b[0;34m=\u001b[0m \u001b[0my_train\u001b[0m\u001b[0;34m.\u001b[0m\u001b[0miloc\u001b[0m\u001b[0;34m[\u001b[0m\u001b[0mtrain_index\u001b[0m\u001b[0;34m]\u001b[0m\u001b[0;34m,\u001b[0m     \u001b[0my_train\u001b[0m\u001b[0;34m.\u001b[0m\u001b[0miloc\u001b[0m\u001b[0;34m[\u001b[0m\u001b[0mcv_index\u001b[0m\u001b[0;34m]\u001b[0m\u001b[0;34m\u001b[0m\u001b[0;34m\u001b[0m\u001b[0m\n",
            "\u001b[0;31mNameError\u001b[0m: name 'k_fold' is not defined"
          ]
        }
      ]
    },
    {
      "cell_type": "code",
      "metadata": {
        "colab": {
          "base_uri": "https://localhost:8080/",
          "height": 312
        },
        "id": "fj89c9g5ZFjE",
        "outputId": "0476a186-3404-42d8-9510-f63cfcd61cd0"
      },
      "source": [
        "preds = pd.concat([y_train,predictionsBasedOnKFolds.loc[:,1]],axis=1)\n",
        "preds.columns = [\"trueLabel\",\"prediction\"]\n",
        "predictionsBasedOnKFoldsXGBoostGradientBoosting = preds.copy()\n",
        "precision, recall, thresholds = precision_recall_curve(preds[\"trueLabel\"],preds[\"prediction\"])\n",
        "average_precision = average_precision_score(preds[\"trueLabel\"],preds[\"prediction\"])\n",
        "\n",
        "plt.step(recall,precision, color=\"k\",alpha = 0.7,where=\"post\")\n",
        "plt.fill_between(recall,precision,step=\"post\",alpha=0.3,color=\"k\")\n",
        "plt.xlabel(\"recall\")\n",
        "plt.ylabel(\"precision\")\n",
        "plt.ylim([0.0,1.05])\n",
        "plt.xlim([0.0,1.0])\n",
        "plt.title(\"precision-recall curve: average precision={0:0.2f}\".format(average_precision))\n"
      ],
      "execution_count": null,
      "outputs": [
        {
          "output_type": "execute_result",
          "data": {
            "text/plain": [
              "Text(0.5, 1.0, 'precision-recall curve: average precision=0.97')"
            ]
          },
          "metadata": {},
          "execution_count": 34
        },
        {
          "output_type": "display_data",
          "data": {
            "image/png": "[encoded data removed]",
            "text/plain": [
              "<Figure size 432x288 with 1 Axes>"
            ]
          },
          "metadata": {
            "needs_background": "light"
          }
        }
      ]
    },
    {
      "cell_type": "code",
      "metadata": {
        "colab": {
          "base_uri": "https://localhost:8080/",
          "height": 295
        },
        "id": "D2vsOeSreQtn",
        "outputId": "87dc02d4-0b29-4354-b14a-a73b19db6278"
      },
      "source": [
        "fpr, tpr, thresholds = roc_curve(preds[\"trueLabel\"],preds[\"prediction\"])\n",
        "areaUnderROC = auc(fpr, tpr)\n",
        "plt.figure()\n",
        "plt.plot(fpr, tpr, color='r', lw=2, label='ROC curve')\n",
        "plt.plot([0, 1], [0, 1], color='k', lw=2, linestyle='--')\n",
        "plt.xlim([0.0, 1.0])\n",
        "plt.ylim([0.0, 1.05])\n",
        "plt.xlabel('False Positive Rate')\n",
        "plt.ylabel('True Positive Rate')\n",
        "plt.title('Receiver operating characteristic: Area under the curve = {0:0.2f}'.format(areaUnderROC))\n",
        "plt.legend(loc=\"lower right\")\n",
        "plt.show()\n"
      ],
      "execution_count": null,
      "outputs": [
        {
          "output_type": "display_data",
          "data": {
            "image/png": "[encoded data removed]",
            "text/plain": [
              "<Figure size 432x288 with 1 Axes>"
            ]
          },
          "metadata": {
            "needs_background": "light"
          }
        }
      ]
    }
  ]
}